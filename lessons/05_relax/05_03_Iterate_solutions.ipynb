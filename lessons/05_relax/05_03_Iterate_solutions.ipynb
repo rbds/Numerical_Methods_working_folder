{
 "cells": [
  {
   "cell_type": "code",
   "execution_count": 3,
   "metadata": {
    "collapsed": false
   },
   "outputs": [],
   "source": [
    "import numpy\n",
    "from matplotlib import pyplot, cm\n",
    "from mpl_toolkits.mplot3d import Axes3D\n",
    "%matplotlib inline\n",
    "from matplotlib import rcParams\n",
    "rcParams['font.family'] = 'serif'\n",
    "rcParams['font.size']=16"
   ]
  },
  {
   "cell_type": "code",
   "execution_count": 4,
   "metadata": {
    "collapsed": true
   },
   "outputs": [],
   "source": [
    "from laplace_helper import p_analytical, plot_3D, L2_rel_error"
   ]
  },
  {
   "cell_type": "code",
   "execution_count": 19,
   "metadata": {
    "collapsed": true
   },
   "outputs": [],
   "source": [
    "ny = 128\n",
    "nx = 128\n",
    "\n",
    "L = 5\n",
    "H = 5\n",
    "\n",
    "x = numpy.linspace(0, L, nx)\n",
    "y = numpy.linspace(0, H, ny)\n",
    "dx = L/(nx-1)\n",
    "dy = H/(nx-1)\n",
    "\n",
    "p0 = numpy.zeros((ny, nx))\n",
    "p0[-1,:] = numpy.sin(1.5*numpy.pi*x/x[-1])"
   ]
  },
  {
   "cell_type": "code",
   "execution_count": 20,
   "metadata": {
    "collapsed": false
   },
   "outputs": [],
   "source": [
    "def laplace2d(p, l2_target):\n",
    "    '''Solves the Laplace eqn using the Jacobi method with a 5-point stencil\n",
    "    \n",
    "    Parameters:\n",
    "        p - initial potential distribution\n",
    "        l2_target - stopping criteria\n",
    "    Returns:\n",
    "        p - potential distribution after relaxation\n",
    "    '''\n",
    "    \n",
    "    l2norm = 1\n",
    "    pn = numpy.empty_like(p)\n",
    "    iterations = 0\n",
    "    while l2norm > l2_target:\n",
    "        pn = p.copy()\n",
    "        p[1:-1, 1:-1] = .25*(pn[1:-1, 2:] + pn[1:-1, :-2] +\\\n",
    "                            pn[2:, 1:-1] + pn[:-2, 1:-1])\n",
    "        \n",
    "        # Neumann BCs at x=L\n",
    "        p[1:-1, -1] = .25*(2*pn[1:-1, -2] + pn[2:, -1] + pn[:-2, -1])\n",
    "        \n",
    "        l2norm = numpy.sqrt(numpy.sum(p-pn)**2/numpy.sum(pn**2))\n",
    "        iterations +=1\n",
    "    \n",
    "    return p, iterations"
   ]
  },
  {
   "cell_type": "code",
   "execution_count": 21,
   "metadata": {
    "collapsed": false
   },
   "outputs": [
    {
     "name": "stdout",
     "output_type": "stream",
     "text": [
      "Jacobi method too k 27057 iterations at 1e-08 tolerance\n"
     ]
    }
   ],
   "source": [
    "l2_target = 1e-8\n",
    "p, iterations = laplace2d(p0.copy(), l2_target)\n",
    "\n",
    "print(\"Jacobi method too k {} iterations at {} tolerance\".format(iterations, l2_target))"
   ]
  },
  {
   "cell_type": "code",
   "execution_count": 22,
   "metadata": {
    "collapsed": false
   },
   "outputs": [
    {
     "name": "stdout",
     "output_type": "stream",
     "text": [
      "1 loops, best of 3: 4.74 s per loop\n"
     ]
    }
   ],
   "source": [
    "%%timeit\n",
    "laplace2d(p0.copy(), l2_target)"
   ]
  },
  {
   "cell_type": "code",
   "execution_count": 23,
   "metadata": {
    "collapsed": true
   },
   "outputs": [],
   "source": [
    "pan = p_analytical(x,y)"
   ]
  },
  {
   "cell_type": "code",
   "execution_count": 24,
   "metadata": {
    "collapsed": false
   },
   "outputs": [
    {
     "data": {
      "text/plain": [
       "7.7434413870791999e-05"
      ]
     },
     "execution_count": 24,
     "metadata": {},
     "output_type": "execute_result"
    }
   ],
   "source": [
    "L2_rel_error(p, pan)"
   ]
  },
  {
   "cell_type": "code",
   "execution_count": null,
   "metadata": {
    "collapsed": true
   },
   "outputs": [],
   "source": []
  }
 ],
 "metadata": {
  "kernelspec": {
   "display_name": "Python 3",
   "language": "python",
   "name": "python3"
  },
  "language_info": {
   "codemirror_mode": {
    "name": "ipython",
    "version": 3
   },
   "file_extension": ".py",
   "mimetype": "text/x-python",
   "name": "python",
   "nbconvert_exporter": "python",
   "pygments_lexer": "ipython3",
   "version": "3.4.3"
  }
 },
 "nbformat": 4,
 "nbformat_minor": 0
}
