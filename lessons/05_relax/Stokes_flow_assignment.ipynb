{
 "cells": [
  {
   "cell_type": "code",
   "execution_count": 26,
   "metadata": {
    "collapsed": true
   },
   "outputs": [],
   "source": [
    "import numpy\n",
    "from math import pi\n",
    "%matplotlib inline\n",
    "from matplotlib import pyplot, cm\n",
    "from matplotlib import rcParams\n",
    "rcParams['font.family'] = 'serif'\n",
    "rcParams['font.size'] = 16\n",
    "\n",
    "from laplace_helper import plot_3D, L2_rel_error\n",
    "from cg_helper import poisson_2d, p_analytical"
   ]
  },
  {
   "cell_type": "code",
   "execution_count": 27,
   "metadata": {
    "collapsed": false
   },
   "outputs": [],
   "source": [
    "nx = 41\n",
    "ny = 41\n",
    "\n",
    "l = 1.\n",
    "h = 1.\n",
    "\n",
    "dx = l/(nx-1)\n",
    "dy = h/(ny-1)\n",
    "\n",
    "l1_target = 1e-6\n",
    "\n",
    "x= numpy.linspace(0, l, nx)\n",
    "y = numpy.linspace(0, h, ny)\n",
    "X,Y = numpy.meshgrid(x,y)\n",
    "\n",
    "#Source\n",
    "u = 1\n",
    "b_psi = numpy.zeros((ny, nx));\n",
    "b_psi[0,:] = u\n",
    "b_w = numpy.zeros((ny, nx))\n",
    "\n",
    "#Initialization\n",
    "psi_i = numpy.zeros((ny, nx))\n",
    "w_i = numpy.zeros((ny, nx))"
   ]
  },
  {
   "cell_type": "code",
   "execution_count": 28,
   "metadata": {
    "collapsed": true
   },
   "outputs": [],
   "source": [
    "def L1norm(new, old):\n",
    "    norm = numpy.sum(numpy.abs(new-old))\n",
    "    return norm"
   ]
  },
  {
   "cell_type": "code",
   "execution_count": 35,
   "metadata": {
    "collapsed": false
   },
   "outputs": [
    {
     "name": "stdout",
     "output_type": "stream",
     "text": [
      "[[ 1.  1.  1. ...,  1.  1.  1.]\n",
      " [ 0.  0.  0. ...,  0.  0.  0.]\n",
      " [ 0.  0.  0. ...,  0.  0.  0.]\n",
      " ..., \n",
      " [ 0.  0.  0. ...,  0.  0.  0.]\n",
      " [ 0.  0.  0. ...,  0.  0.  0.]\n",
      " [ 0.  0.  0. ...,  0.  0.  0.]]\n"
     ]
    }
   ],
   "source": [
    "print(b)"
   ]
  },
  {
   "cell_type": "code",
   "execution_count": 29,
   "metadata": {
    "collapsed": false
   },
   "outputs": [],
   "source": [
    "def conjugate_gradient_stokes(w, psi, b_w, b_psi, dx, dy, l1_target):\n",
    "    '''Performs Conjugate Gradient relaxation\n",
    "        Assumes Dirichlet boundary conditions p=0\n",
    "        \n",
    "        Parameters:\n",
    "            w, psi- intial guess\n",
    "            b- source term\n",
    "            dx- mesh spacing in x\n",
    "            dy- mesh spacing in y\n",
    "            l1_target- exit criteria\n",
    "            \n",
    "        Returns:\n",
    "            w, psi- distribution after relaxation\n",
    "    '''\n",
    "    \n",
    "    ny, nx = psi.shape\n",
    "    r_psi = numpy.zeros((ny, nx))\n",
    "    Ad_psi = numpy.zeros((ny, nx))\n",
    "    r_w = numpy.zeros((ny, nx))\n",
    "    Ad_w = numpy.zeros((ny, nx))\n",
    "    \n",
    "    l1_norm = 1\n",
    "    iterations = 0\n",
    "    l1_conv = []\n",
    "    \n",
    "    #compute intial residual, \n",
    "    #r0 = b-A*p0 = ?b*dx**2 + 4*p(i,j) -p(i,j+1) - p(i,j-1)...\n",
    "    r_psi[1:-1, 1:-1] = b_psi[1:-1,1:-1]*dx**2 + 4*psi[1:-1,1:-1] - psi[1:-1,:-2] -\\\n",
    "            psi[1:-1,2:] - psi[:-2,1:-1] - psi[2:,1:-1]\n",
    "    r_w[1:-1,1:-1] = b_w[1:-1,1:-1]*dx**2 + 4*w[1:-1,1:-1] - w[1:-1,:-2] -\\\n",
    "            w[1:-1,2:] - w[:-2,1:-1] - w[2:,1:-1]\n",
    "        \n",
    "    d_psi = r_psi.copy() #d0 = r0\n",
    "    d_w = r_w.copy()\n",
    "    \n",
    "    top_psi = numpy.sum(r_psi*r_psi)\n",
    "    Ad_psi[1:-1,1:-1] = -4*d_psi[1:-1,1:-1]+d_psi[1:-1,2:]+d_psi[1:-1,:-2] + \\\n",
    "        d_psi[2:,1:-1] + d_psi[:-2,1:-1]\n",
    "    bot_psi = numpy.sum(d_psi*Ad_psi)\n",
    "    \n",
    "    top_w = numpy.sum(r_w*r_w)\n",
    "    Ad_w[1:-1,1:-1] = -4*d_w[1:-1,1:-1]+d_w[1:-1,2:]+d_w[1:-1,:-2] + \\\n",
    "        d_w[2:,1:-1] + d_w[:-2,1:-1]\n",
    "    bot_w = numpy.sum(d_w*Ad_w)\n",
    "        \n",
    "    #Iterations\n",
    "    while l1_norm > l1_target:\n",
    "        wk = w.copy()\n",
    "        psik = psi.copy()\n",
    "        rk_psi = r_psi.copy()\n",
    "        dk_psi = d_psi.copy()\n",
    "        rk_w = r_w.copy()\n",
    "        dk_w = d_w.copy()\n",
    "        \n",
    "        #alpha = rk*rk/(A*dk*dk)\n",
    "        alpha_psi = top_psi/bot_psi\n",
    "        alpha_w = top_w/bot_w\n",
    "        \n",
    "        #update p(k+1)\n",
    "        psi = psik + alpha_psi*dk_psi\n",
    "        w = wk + alpha_w*dk_w\n",
    "        \n",
    "        #r(k+1) = r(k)-alpha*A*dk\n",
    "        r_psi = rk_psi - alpha_psi*Ad_psi\n",
    "        r_w = rk_w - alpha_w*Ad_w\n",
    "        \n",
    "        #beta = r(k+1)*r(k+1)/(r(k)*r(k))\n",
    "        top_psi1 = numpy.sum(r_psi*r_psi)\n",
    "        beta_psi = top_psi1/top_psi\n",
    "        top_psi = top_psi1\n",
    "        \n",
    "        top_w1 = numpy.sum(r_w*r_w)\n",
    "        beta_w = top_w1/top_w\n",
    "        top_w = top_w1\n",
    "        \n",
    "        #d(k+1) = r(k+1) +beta*d(k)\n",
    "        d_psi = r_psi + beta_psi*dk_psi\n",
    "        Ad_psi[1:-1,1:-1] = -4*d_psi[1:-1,1:-1]+d_psi[1:-1,2:]+d_psi[1:-1,:-2] + \\\n",
    "            d_psi[2:,1:-1] + d_psi[:-2,1:-1]\n",
    "        \n",
    "        d_w = r_w + beta_w*dk_w\n",
    "        Ad_w[1:-1,1:-1] = -4*d_w[1:-1,1:-1]+d_w[1:-1,2:]+d_w[1:-1,:-2] + \\\n",
    "            d_w[2:,1:-1] + d_w[:-2,1:-1]\n",
    "        \n",
    "        top_psi = numpy.sum(d_psi*Ad_psi)\n",
    "        top_w = numpy.sum(d_w*Ad_w)\n",
    "        \n",
    "        #Enforce BCs\n",
    "        \n",
    "        psi[:, 0] = 0\n",
    "        psi[:,-1] = 0\n",
    "        psi[0, :] = 0\n",
    "        psi[-1,:] = 0\n",
    "        w[:, 0] = 0\n",
    "        w[2:,-1] = -1/(2*dy**2)*(8*psi[2:,-2] - psi[2:,-3]) -3*u/dy\n",
    "        w[0, :] = 0\n",
    "        w[-1,:] = 0\n",
    "        \n",
    "        \n",
    "        l1_norm = min(L1norm(psik,psi), L1norm(wk, w))\n",
    "        iterations += 1\n",
    "        l1_conv.append(l1_norm)\n",
    "        \n",
    "    print('Number of CG iterations: {0:d}'.format(iterations))\n",
    "    return w, psi, l1_conv"
   ]
  },
  {
   "cell_type": "code",
   "execution_count": 30,
   "metadata": {
    "collapsed": false
   },
   "outputs": [
    {
     "name": "stdout",
     "output_type": "stream",
     "text": [
      "Number of CG iterations: 1\n"
     ]
    },
    {
     "name": "stderr",
     "output_type": "stream",
     "text": [
      "/home/gil/anaconda3/lib/python3.4/site-packages/ipykernel/__main__.py:52: RuntimeWarning: invalid value encountered in double_scalars\n",
      "/home/gil/anaconda3/lib/python3.4/site-packages/ipykernel/__main__.py:53: RuntimeWarning: invalid value encountered in double_scalars\n"
     ]
    }
   ],
   "source": [
    "w, psi, l1_conv = conjugate_gradient_stokes(w_i, psi_i, b_w, b_psi, dx, dy, l1_target)"
   ]
  },
  {
   "cell_type": "code",
   "execution_count": 34,
   "metadata": {
    "collapsed": false
   },
   "outputs": [
    {
     "name": "stdout",
     "output_type": "stream",
     "text": [
      "[[  0.   0.   0. ...,   0.   0.   0.]\n",
      " [  0.  nan  nan ...,  nan  nan   0.]\n",
      " [  0.  nan  nan ...,  nan  nan   0.]\n",
      " ..., \n",
      " [  0.  nan  nan ...,  nan  nan   0.]\n",
      " [  0.  nan  nan ...,  nan  nan   0.]\n",
      " [  0.   0.   0. ...,   0.   0.   0.]]\n"
     ]
    }
   ],
   "source": [
    "print(psi)"
   ]
  },
  {
   "cell_type": "code",
   "execution_count": 32,
   "metadata": {
    "collapsed": false
   },
   "outputs": [
    {
     "name": "stderr",
     "output_type": "stream",
     "text": [
      "/home/gil/anaconda3/lib/python3.4/site-packages/matplotlib/colors.py:581: RuntimeWarning: invalid value encountered in less\n",
      "  cbook._putmask(xa, xa < 0.0, -1)\n"
     ]
    },
    {
     "data": {
      "image/png": "[encoded data removed]",
      "text/plain": [
       "<matplotlib.figure.Figure at 0x7f797bc8f630>"
      ]
     },
     "metadata": {},
     "output_type": "display_data"
    }
   ],
   "source": [
    "fig = pyplot.figure(figsize=(11,7), dpi=100)\n",
    "ax = fig.gca(projection='3d')\n",
    "#ax = fig.gca()\n",
    "X,Y = numpy.meshgrid(x,y)\n",
    "surf = ax.plot_surface(X,Y,w[:], rstride=1, cstride=1, cmap=cm.viridis,\n",
    "        linewidth=0, antialiased=False)\n",
    "\n",
    "\n",
    "\n",
    "#ax.set_xlim(0,1)\n",
    "#ax.set_ylim(0,1)\n",
    "ax.set_xlabel('$x$')\n",
    "ax.set_ylabel('$y$')\n",
    "ax.set_zlabel('$z$')\n",
    "ax.view_init(30,45)"
   ]
  },
  {
   "cell_type": "code",
   "execution_count": null,
   "metadata": {
    "collapsed": true
   },
   "outputs": [],
   "source": []
  },
  {
   "cell_type": "code",
   "execution_count": null,
   "metadata": {
    "collapsed": true
   },
   "outputs": [],
   "source": []
  }
 ],
 "metadata": {
  "kernelspec": {
   "display_name": "Python 3",
   "language": "python",
   "name": "python3"
  },
  "language_info": {
   "codemirror_mode": {
    "name": "ipython",
    "version": 3
   },
   "file_extension": ".py",
   "mimetype": "text/x-python",
   "name": "python",
   "nbconvert_exporter": "python",
   "pygments_lexer": "ipython3",
   "version": "3.4.3"
  }
 },
 "nbformat": 4,
 "nbformat_minor": 0
}
