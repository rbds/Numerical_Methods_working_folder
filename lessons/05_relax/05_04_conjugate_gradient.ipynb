{
 "cells": [
  {
   "cell_type": "code",
   "execution_count": 2,
   "metadata": {
    "collapsed": true
   },
   "outputs": [],
   "source": [
    "import numpy\n",
    "from math import pi\n",
    "%matplotlib inline\n",
    "\n",
    "from laplace_helper import plot_3D, L2_rel_error\n",
    "from cg_helper import poisson_2d, p_analytical"
   ]
  },
  {
   "cell_type": "code",
   "execution_count": 3,
   "metadata": {
    "collapsed": false
   },
   "outputs": [],
   "source": [
    "nx = 101\n",
    "ny = 101\n",
    "xmin = 0\n",
    "xmax = 1\n",
    "ymin = -0.5\n",
    "ymax = 0.5\n",
    "\n",
    "l2_target = 1e-10\n",
    "\n",
    "dx = (xmax-xmin)/(nx-1)\n",
    "dy = (ymax-ymin)/(ny-1)\n",
    "\n",
    "x= numpy.linspace(xmin, xmax, nx)\n",
    "y = numpy.linspace(ymin, ymax, ny)\n",
    "X,Y = numpy.meshgrid(x,y)\n",
    "\n",
    "#Source\n",
    "L = xmax-xmin\n",
    "b = -2*(pi/L)**2*numpy.sin(pi*X/L)*numpy.cos(pi*Y/L)\n",
    "\n",
    "#Initialization\n",
    "p_i = numpy.zeros((ny, nx))\n",
    "\n",
    "#Analytical solution\n",
    "pan = p_analytical(X,Y,L)"
   ]
  },
  {
   "cell_type": "code",
   "execution_count": 4,
   "metadata": {
    "collapsed": true
   },
   "outputs": [],
   "source": [
    "def steepest_descent_2d(p, b, dx, dy, l2_target):\n",
    "    '''Performs steepest descent relaxation \n",
    "        Assumes Dirichlet boundary conditions p=0\n",
    "    \n",
    "    Parameters:\n",
    "        p- initial guess\n",
    "        b- source term\n",
    "        dx- mesh spacing\n",
    "        dy- mesh spacing\n",
    "        l2_target- exit criteria\n",
    "        \n",
    "    Returns:\n",
    "        p - distribution after relaxation\n",
    "        \n",
    "    '''\n",
    "    ny, nx = p.shape\n",
    "    r = numpy.zeros((ny, nx))\n",
    "    Ar = numpy.zeros((ny, nx))\n",
    "    \n",
    "    l2_norm = 1\n",
    "    iterations = 0\n",
    "    l2_conv = []\n",
    "    \n",
    "    while l2_norm > l2_target:\n",
    "        pd = p.copy()\n",
    "        r[1:-1, 1:-1] = b[1:-1, 1:-1]*dx**2 + 4*pd[1:-1,1:-1] - \\\n",
    "            pd[1:-1,2:] - pd[1:-1,:-2] - pd[2:,1:-1] - pd[:-2, 1:-1]\n",
    "        \n",
    "        Ar[1:-1, 1:-1] = -4*r[1:-1, 1:-1] + r[1:-1,2:]+r[1:-1,:-2]+\\\n",
    "            r[2:,1:-1] + r[:-2, 1:-1]\n",
    "            \n",
    "        rho = numpy.sum(r*r)\n",
    "        sigma = numpy.sum(r*Ar)\n",
    "        alpha = rho/sigma\n",
    "        \n",
    "        p = pd+ alpha*r\n",
    "        \n",
    "        l2_norm = L2_rel_error(pd, p)\n",
    "        iterations +=1\n",
    "        l2_conv.append(l2_norm)\n",
    "        \n",
    "    print('Number of SD iterations: {0:d}'.format(iterations))\n",
    "    return p, l2_conv"
   ]
  },
  {
   "cell_type": "code",
   "execution_count": 5,
   "metadata": {
    "collapsed": false
   },
   "outputs": [
    {
     "name": "stdout",
     "output_type": "stream",
     "text": [
      "Number of SD iterations: 2\n"
     ]
    },
    {
     "data": {
      "text/plain": [
       "8.2250762212767885e-05"
      ]
     },
     "execution_count": 5,
     "metadata": {},
     "output_type": "execute_result"
    }
   ],
   "source": [
    "p, l2_conv = steepest_descent_2d(p_i.copy(), b, dx, dy, l2_target)\n",
    "L2_rel_error(p, pan)"
   ]
  },
  {
   "cell_type": "code",
   "execution_count": 6,
   "metadata": {
    "collapsed": true
   },
   "outputs": [],
   "source": [
    "def conjugate_gradient_2d(p, b, dx, dy, l2_target):\n",
    "    '''Performs Conjugate Gradient relaxation\n",
    "        Assumes Dirichlet boundary conditions p=0\n",
    "        \n",
    "        Parameters:\n",
    "            p- intial guess\n",
    "            b- source term\n",
    "            dx- mesh spacing in x\n",
    "            dy- mesh spacing in y\n",
    "            l2_target- exit criteria\n",
    "            \n",
    "        Returns:\n",
    "            p- distribution after relaxation\n",
    "    '''\n",
    "    \n",
    "    ny, nx = p.shape\n",
    "    r = numpy.zeros((ny, nx))\n",
    "    Ad = numpy.zeros((ny, nx))\n",
    "    \n",
    "    l2_norm = 1\n",
    "    iterations = 0\n",
    "    l2_conv = []\n",
    "    \n",
    "    #compute intial residual, which we will use for the first direction \n",
    "    r[1:-1, 1:-1] = b[1:-1, 1:-1]*dx**2 + 4*p[1:-1,1:-1] - \\\n",
    "        p[1:-1,2:] - p[1:-1,:-2] - p[2:,1:-1] - p[:-2,1:-1]\n",
    "    d = r.copy()\n",
    "    rho = numpy.sum(r*r)\n",
    "    Ad[1:-1,1:-1] = -4*d[1:-1,1:-1]+d[1:-1,2:]+d[1:-1,:-2] + \\\n",
    "        d[2:,1:-1] + d[:-2,1:-1]\n",
    "    sigma = numpy.sum(d*Ad)\n",
    "    \n",
    "    #Iterations\n",
    "    while l2_norm > l2_target:\n",
    "        pk = p.copy()\n",
    "        rk = r.copy()\n",
    "        dk = d.copy()\n",
    "        alpha = rho/sigma\n",
    "        \n",
    "        p = pk + alpha*dk\n",
    "        r = rk - alpha*Ad\n",
    "        \n",
    "        rhop1 = numpy.sum(r*r)\n",
    "        beta = rhop1 / rho\n",
    "        rho = rhop1\n",
    "        \n",
    "        d = r + beta*dk\n",
    "        Ad[1:-1, 1:-1] = -4*d[1:-1,1:-1] + d[1:-1,2:] + d[1:-1,:-2] + \\\n",
    "            d[2:,1:-1] + d[:-2, 1:-1]\n",
    "        sigma = numpy.sum(d*Ad)\n",
    "        \n",
    "        l2_norm = L2_rel_error(pk,p)\n",
    "        iterations += 1\n",
    "        l2_conv.append(l2_norm)\n",
    "        \n",
    "    print('Number of CG iterations: {0:d}'.format(iterations))\n",
    "    return p, l2_conv"
   ]
  },
  {
   "cell_type": "code",
   "execution_count": 7,
   "metadata": {
    "collapsed": false
   },
   "outputs": [
    {
     "name": "stdout",
     "output_type": "stream",
     "text": [
      "Number of CG iterations: 2\n"
     ]
    },
    {
     "data": {
      "text/plain": [
       "8.2250762212769755e-05"
      ]
     },
     "execution_count": 7,
     "metadata": {},
     "output_type": "execute_result"
    }
   ],
   "source": [
    "p, l2_conv = conjugate_gradient_2d(p_i.copy(), b, dx, dy, l2_target)\n",
    "L2_rel_error(p, pan)"
   ]
  },
  {
   "cell_type": "code",
   "execution_count": 8,
   "metadata": {
    "collapsed": false
   },
   "outputs": [
    {
     "name": "stdout",
     "output_type": "stream",
     "text": [
      "Number of Jacobi iterations: 31227\n"
     ]
    }
   ],
   "source": [
    "p, l2_conv = poisson_2d(p_i.copy(), b, dx, dy, l2_target)"
   ]
  },
  {
   "cell_type": "code",
   "execution_count": 9,
   "metadata": {
    "collapsed": true
   },
   "outputs": [],
   "source": [
    "b = (numpy.sin(pi*X/L)*numpy.cos(pi*Y/L) + numpy.sin(6*pi*X/L)*numpy.cos(6*pi*Y/L))"
   ]
  },
  {
   "cell_type": "code",
   "execution_count": 10,
   "metadata": {
    "collapsed": false
   },
   "outputs": [
    {
     "name": "stdout",
     "output_type": "stream",
     "text": [
      "Number of Jacobi iterations: 31226\n",
      "Number of SD iterations: 31705\n",
      "Number of CG iterations: 72\n"
     ]
    }
   ],
   "source": [
    "p, l2_conv = poisson_2d(p_i.copy(), b, dx, dy, l2_target)\n",
    "p, l2_conv = steepest_descent_2d(p_i.copy(), b, dx, dy, l2_target)\n",
    "p, l2_conv = conjugate_gradient_2d(p_i.copy(), b, dx, dy, l2_target)"
   ]
  },
  {
   "cell_type": "code",
   "execution_count": null,
   "metadata": {
    "collapsed": true
   },
   "outputs": [],
   "source": []
  }
 ],
 "metadata": {
  "kernelspec": {
   "display_name": "Python 3",
   "language": "python",
   "name": "python3"
  },
  "language_info": {
   "codemirror_mode": {
    "name": "ipython",
    "version": 3
   },
   "file_extension": ".py",
   "mimetype": "text/x-python",
   "name": "python",
   "nbconvert_exporter": "python",
   "pygments_lexer": "ipython3",
   "version": "3.4.3"
  }
 },
 "nbformat": 4,
 "nbformat_minor": 0
}
