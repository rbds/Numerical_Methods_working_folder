{
 "cells": [
  {
   "cell_type": "code",
   "execution_count": 48,
   "metadata": {
    "collapsed": true
   },
   "outputs": [],
   "source": [
    "import numpy\n",
    "from scipy.linalg import solve"
   ]
  },
  {
   "cell_type": "code",
   "execution_count": 49,
   "metadata": {
    "collapsed": true
   },
   "outputs": [],
   "source": [
    "def constructMatrix(nx, ny, sigma):\n",
    "    \"\"\" Generate implicit matrix for 2D heat equation with Dirichlet BC in\n",
    "    top and right and Neumann in bottom and left. \n",
    "\n",
    "    Uses row-major ordering.\n",
    "    Assume delta = dx = dy.\n",
    "    \n",
    "    Parameters:\n",
    "        nx - number of spatial points in x direction\n",
    "        ny - number of spatial points in y direction\n",
    "        sigma - alpha*dt/dx\n",
    "        \n",
    "    Returns:\n",
    "        A - Matrix of implicit 2D heat equation\n",
    "    \"\"\"\n",
    "    \n",
    "    A = numpy.zeros(((nx-2)*(ny-2),(nx-2)*(ny-2)))\n",
    "    \n",
    "    rownum = 0 # row counter\n",
    "    for j in range(1,ny-1):\n",
    "        for i in range(1,nx-1):\n",
    "            \n",
    "            # Corners\n",
    "            if i==1 and j==1: # Bottom left corner (Dirichlet down and left)\n",
    "                A[rownum,rownum] = 1/sigma+4 # Set diagonal\n",
    "                A[rownum,rownum+1] = -1      # i+1\n",
    "                A[rownum,rownum+nx-2] = -1   # j+1\n",
    "                \n",
    "            elif i==nx-2 and j==1: # Bottom right corner (Dirichlet down, Neumann right)\n",
    "                A[rownum,rownum] = 1/sigma+3 # Set diagonal\n",
    "                A[rownum,rownum-1] = -1      # i-1\n",
    "                A[rownum,rownum+nx-2] = -1   # j+1\n",
    "                \n",
    "            elif i==1 and j==ny-2: # Top left corner (Neumann up, Dirichlet left)\n",
    "                A[rownum,rownum] = 1/sigma+3   # Set diagonal\n",
    "                A[rownum,rownum+1] = -1        # i+1\n",
    "                A[rownum,rownum-(nx-2)] = -1   # j-1\n",
    "                \n",
    "            elif i==nx-2 and j==ny-2: # Top right corner (Neumann up and right)\n",
    "                A[rownum,rownum] = 1/sigma+2   # Set diagonal\n",
    "                A[rownum,rownum-1] = -1        # i-1\n",
    "                A[rownum,rownum-(nx-2)] = -1   # j-1\n",
    "              \n",
    "            # Sides\n",
    "            elif i==1: # Left boundary (Dirichlet)\n",
    "                A[rownum,rownum] = 1/sigma+4 # Set diagonal\n",
    "                A[rownum,rownum+1] = -1      \n",
    "                A[rownum,rownum+nx-2] = -1   \n",
    "                A[rownum,rownum-(nx-2)] = -1 \n",
    "            \n",
    "            elif i==nx-2: # Right boundary (Neumann)\n",
    "                A[rownum,rownum] = 1/sigma+3 \n",
    "                A[rownum,rownum-1] = -1      \n",
    "                A[rownum,rownum+nx-2] = -1   \n",
    "                A[rownum,rownum-(nx-2)] = -1 \n",
    "                \n",
    "            elif j==1: # Bottom boundary (Dirichlet)\n",
    "                A[rownum,rownum] = 1/sigma+4 \n",
    "                A[rownum,rownum+1] = -1      \n",
    "                A[rownum,rownum-1] = -1      \n",
    "                A[rownum,rownum+nx-2] = -1   \n",
    "                \n",
    "            elif j==ny-2: # Top boundary (Neumann)\n",
    "                A[rownum,rownum] = 1/sigma+3 # Set diagonal\n",
    "                A[rownum,rownum+1] = -1      \n",
    "                A[rownum,rownum-1] = -1      \n",
    "                A[rownum,rownum-(nx-2)] = -1 \n",
    "                \n",
    "            # Interior points\n",
    "            else:\n",
    "                A[rownum,rownum] = 1/sigma+4 # Set diagonal\n",
    "                A[rownum,rownum+1] = -1     \n",
    "                A[rownum,rownum-1] = -1      \n",
    "                A[rownum,rownum+nx-2] = -1   \n",
    "                A[rownum,rownum-(nx-2)] = -1 \n",
    "                \n",
    "            rownum += 1\n",
    "    \n",
    "    return A "
   ]
  },
  {
   "cell_type": "code",
   "execution_count": 50,
   "metadata": {
    "collapsed": true
   },
   "outputs": [],
   "source": [
    "def generateRHS(nx, ny, sigma, T, T_bc):\n",
    "    \"\"\"Generate right-hand side for 2D implicit heat equation with Dirichlet\n",
    "        BC in bottom, left and Neumann BC in top, right.\n",
    "        \n",
    "        Assume delta = dx = dy, Neumann BCs = 0, constant Dirichlet BC\n",
    "        \n",
    "        Parameters:\n",
    "            nx - number of spatial points in x direction\n",
    "            ny - number of spatial points in y direction\n",
    "            sigma - alpha*dt/dx\n",
    "            T - Temp. in current time step\n",
    "            T_bc - Temp. in Dirichlet BC\n",
    "            \n",
    "        Returns:\n",
    "            RHS - Right hand side of 2D implicit heat equation.\n",
    "        \"\"\"\n",
    "    RHS = numpy.zeros((nx-2)*(ny-2))\n",
    "    \n",
    "    rownum = 0\n",
    "    for j in range(1, ny-1):\n",
    "        for i in range(1, nx-1):\n",
    "            #Corners\n",
    "            if i==1 and j==1: #Bottom left\n",
    "                RHS[rownum] = T[j,i]*1/sigma + 2*T_bc\n",
    "                \n",
    "            elif i==nx-2 and j==1:\n",
    "                RHS[rownum] = T[j,i]*(1/sigma)+T_bc\n",
    "                \n",
    "            elif i==1 and j==ny-2:\n",
    "                RHS[rownum] = T[j,i] *1/sigma + T_bc\n",
    "            \n",
    "            elif i==nx-2 and j==ny-2:\n",
    "                RHS[rownum] = T[j,i]*1/sigma\n",
    "                \n",
    "            #Sides\n",
    "            elif i==1:\n",
    "                RHS[rownum] = T[j,i]*1/sigma + T_bc\n",
    "            elif i==nx-2:\n",
    "                RHS[rownum] = T[j,i]*1/sigma\n",
    "            elif j==1:\n",
    "                RHS[rownum] = T[j,i]*1/sigma + T_bc\n",
    "            elif j==ny-2:\n",
    "                RHS[rownum] = T[j,i]*1/sigma\n",
    "                \n",
    "            #interior points\n",
    "            else:\n",
    "                RHS[rownum] = T[j,i]*1/sigma\n",
    "                \n",
    "            rownum +=1\n",
    "            \n",
    "    return RHS\n",
    "                "
   ]
  },
  {
   "cell_type": "code",
   "execution_count": 51,
   "metadata": {
    "collapsed": true
   },
   "outputs": [],
   "source": [
    "def map_1Dto2D(nx, ny, T_1D, T_bc):\n",
    "    T = numpy.zeros((ny, nx))\n",
    "    \n",
    "    rownum = 0\n",
    "    for j in range(1, ny-1):\n",
    "        for i in range(1, nx-1):\n",
    "            T[j,i] = T_1D[rownum]\n",
    "            rownum +=1\n",
    "    #BCs        \n",
    "    T[0,:] = T_bc\n",
    "    T[:,0] = T_bc\n",
    "    T[-1,:] = T[-2,:]\n",
    "    T[:,-1] = T[:,-2]\n",
    "    \n",
    "    return T    "
   ]
  },
  {
   "cell_type": "code",
   "execution_count": 52,
   "metadata": {
    "collapsed": false
   },
   "outputs": [],
   "source": [
    "def btcs_2D(T, A, nt, sigma, T_bc, nx, ny, dt):\n",
    "    \"\"\"Advnaces diffusion equation in time with backward Euler\n",
    "    \n",
    "    Parameters:\n",
    "        T - initial temp. profile\n",
    "        A - Matrix with discretized diffusion equation\n",
    "        nt - time steps\n",
    "        sigma - alpha*dt/dx**2\n",
    "        T_bc - Dirichlet boundary condition\n",
    "        nx - Discretization points in x\n",
    "        ny - Discretization points in y\n",
    "        \n",
    "    Returns:\n",
    "        T - temp profile after nt time steps\n",
    "    \"\"\"\n",
    "    \n",
    "    j_mid = (numpy.shape(T)[0])/2\n",
    "    i_mid = (numpy.shape(T)[1])/2\n",
    "    \n",
    "    for t in range(nt):\n",
    "        Tn = T.copy()\n",
    "        b = generateRHS(nx, ny, sigma, Tn, T_bc)\n",
    "        #Use numpy.linalg.solve\n",
    "        T_interior = solve(A,b)\n",
    "        T = map_1Dto2D(nx, ny, T_interior, T_bc)\n",
    "        \n",
    "        #check if T=70C\n",
    "        if T[j_mid, i_mid] >= 70:\n",
    "            print(\"Center of plate reached 70C at time {0:.2f}s, timestep {1:d}\".format(dt*t, t))\n",
    "            break\n",
    "        \n",
    "    if T[j_mid, i_mid] < 70:\n",
    "        print(\"Center has not reached 70C, T={0:.2f}\".format(T[j_mid, i_mid]))\n",
    "           \n",
    "    return T"
   ]
  },
  {
   "cell_type": "code",
   "execution_count": 53,
   "metadata": {
    "collapsed": false
   },
   "outputs": [],
   "source": [
    "alpha = 1e-4\n",
    "\n",
    "L = 1.0e-2\n",
    "H = 1.0e-2\n",
    "\n",
    "nx = 21\n",
    "ny = 21\n",
    "nt = 300\n",
    "\n",
    "dx = L/(nx-1)\n",
    "dy = H/(nx-1)\n",
    "\n",
    "x = numpy.linspace(0, L, nx)\n",
    "y = numpy.linspace(0, H, ny)\n",
    "\n",
    "T_bc = 100\n",
    "Ti = numpy.ones((ny, nx))*20\n",
    "Ti[0,:] = T_bc\n",
    "Ti[:,0] = T_bc"
   ]
  },
  {
   "cell_type": "code",
   "execution_count": 71,
   "metadata": {
    "collapsed": false
   },
   "outputs": [],
   "source": [
    "sigma = 3\n",
    "A = constructMatrix(nx, ny, sigma)"
   ]
  },
  {
   "cell_type": "code",
   "execution_count": 72,
   "metadata": {
    "collapsed": false
   },
   "outputs": [
    {
     "name": "stderr",
     "output_type": "stream",
     "text": [
      "/home/randy/anaconda3/lib/python3.4/site-packages/ipykernel/__main__.py:28: DeprecationWarning: using a non-integer number instead of an integer will result in an error in the future\n",
      "/home/randy/anaconda3/lib/python3.4/site-packages/ipykernel/__main__.py:32: DeprecationWarning: using a non-integer number instead of an integer will result in an error in the future\n"
     ]
    },
    {
     "name": "stdout",
     "output_type": "stream",
     "text": [
      "Center of plate reached 70C at time 0.16s, timestep 21\n"
     ]
    }
   ],
   "source": [
    "dt = sigma*min(dx, dy)**2/alpha\n",
    "T = btcs_2D(Ti.copy(), A, nt, sigma, T_bc, nx, ny, dt)"
   ]
  },
  {
   "cell_type": "code",
   "execution_count": 73,
   "metadata": {
    "collapsed": false
   },
   "outputs": [
    {
     "name": "stdout",
     "output_type": "stream",
     "text": [
      "[[ 4.33333333 -1.          0.         ...,  0.          0.          0.        ]\n",
      " [-1.          4.33333333 -1.         ...,  0.          0.          0.        ]\n",
      " [ 0.         -1.          4.33333333 ...,  0.          0.          0.        ]\n",
      " ..., \n",
      " [ 0.          0.          0.         ...,  3.33333333 -1.          0.        ]\n",
      " [ 0.          0.          0.         ..., -1.          3.33333333 -1.        ]\n",
      " [ 0.          0.          0.         ...,  0.         -1.          2.33333333]]\n"
     ]
    },
    {
     "data": {
      "text/plain": [
       "(361, 361)"
      ]
     },
     "execution_count": 73,
     "metadata": {},
     "output_type": "execute_result"
    }
   ],
   "source": [
    "print(A)\n",
    "numpy.shape(A)"
   ]
  },
  {
   "cell_type": "code",
   "execution_count": 74,
   "metadata": {
    "collapsed": true
   },
   "outputs": [],
   "source": [
    "from matplotlib import pyplot\n",
    "%matplotlib inline\n",
    "from matplotlib import rcParams\n",
    "rcParams['font.family'] = 'serif'\n",
    "rcParams['font.size'] = 16"
   ]
  },
  {
   "cell_type": "code",
   "execution_count": 76,
   "metadata": {
    "collapsed": false
   },
   "outputs": [
    {
     "data": {
      "image/png": "[encoded data removed]",
      "text/plain": [
       "<matplotlib.figure.Figure at 0x7f1723f3fef0>"
      ]
     },
     "metadata": {},
     "output_type": "display_data"
    }
   ],
   "source": [
    "mx, my = numpy.meshgrid(x, y)\n",
    "pyplot.figure(figsize=(7,7))\n",
    "pyplot.contourf(my,mx,T,50);"
   ]
  },
  {
   "cell_type": "code",
   "execution_count": null,
   "metadata": {
    "collapsed": true
   },
   "outputs": [],
   "source": []
  }
 ],
 "metadata": {
  "kernelspec": {
   "display_name": "Python 3",
   "language": "python",
   "name": "python3"
  },
  "language_info": {
   "codemirror_mode": {
    "name": "ipython",
    "version": 3
   },
   "file_extension": ".py",
   "mimetype": "text/x-python",
   "name": "python",
   "nbconvert_exporter": "python",
   "pygments_lexer": "ipython3",
   "version": "3.4.3"
  }
 },
 "nbformat": 4,
 "nbformat_minor": 0
}
