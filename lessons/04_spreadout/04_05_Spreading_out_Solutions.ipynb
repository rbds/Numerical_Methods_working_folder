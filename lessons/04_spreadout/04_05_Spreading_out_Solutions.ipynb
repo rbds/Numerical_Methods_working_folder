{
 "cells": [
  {
   "cell_type": "code",
   "execution_count": 1,
   "metadata": {
    "collapsed": true
   },
   "outputs": [],
   "source": [
    "import numpy\n",
    "from scipy.linalg import solve"
   ]
  },
  {
   "cell_type": "code",
   "execution_count": 2,
   "metadata": {
    "collapsed": true
   },
   "outputs": [],
   "source": [
    "def generateMatrix(N, sigma):\n",
    "    \"\"\" Computes the matrix for the diffusion equation with Crank-Nicolson\n",
    "        Uses Dirichlet condition at i=0, Neumann at i=-1\n",
    "        \n",
    "        Parameters:\n",
    "            N - number of discretization points\n",
    "            sigma - alpha*dt/dx^2\n",
    "            \n",
    "        Returns:\n",
    "            A - Matrix for diffusion equation        \n",
    "        \"\"\"\n",
    "    \n",
    "    #Setup diagonal\n",
    "    d = 2*numpy.diag(numpy.ones(N-2)*(1+1./sigma))\n",
    "    \n",
    "    #Consider Neumann BC\n",
    "    d[-1, -1] = 1+2./sigma\n",
    "    \n",
    "    #upper diagonal\n",
    "    ud = numpy.diag(numpy.ones(N-3)*-1, 1)\n",
    "    \n",
    "    #lower diagonal\n",
    "    ld = numpy.diag(numpy.ones(N-3)*-1, -1)\n",
    "    \n",
    "    A = d+ud+ld\n",
    "    return A"
   ]
  },
  {
   "cell_type": "code",
   "execution_count": 10,
   "metadata": {
    "collapsed": true
   },
   "outputs": [],
   "source": [
    "def generateRHS(T, sigma):\n",
    "    \"\"\"Computes RHS of linear system for diffusion equation with \n",
    "        backward Euler\n",
    "        \n",
    "        Parameters:\n",
    "            T - temp at current time step\n",
    "            sigma - alpha*dt/dx^2\n",
    "        \n",
    "        Return:\n",
    "            b - RHS of diffusion equation\n",
    "        \"\"\"\n",
    "    \n",
    "    b = T[1:-1]*2*(1./sigma-1) + T[:-2] + T[2:]\n",
    "    #Dirichlet BC\n",
    "    b[0] +=T[0]\n",
    "    \n",
    "    return b"
   ]
  },
  {
   "cell_type": "code",
   "execution_count": 11,
   "metadata": {
    "collapsed": true
   },
   "outputs": [],
   "source": [
    "def CrankNicolson(T, A, nt, sigma):\n",
    "    \"\"\" Advances diffusion eqn. in time with Crank-Nicolson\n",
    "    \n",
    "        Parameters:\n",
    "            T - initial temp profile\n",
    "            A - Matrix with discretized diffusion equation\n",
    "            nt - number of time steps\n",
    "            sigma - alpha*dt/dx^2\n",
    "            \n",
    "        Returns:\n",
    "            T - temperature profile after nt time steps\n",
    "        \"\"\"\n",
    "    \n",
    "    for t in range(nt):\n",
    "        Tn = T.copy()\n",
    "        b = generateRHS(Tn, sigma)\n",
    "        T_interior = solve(A, b)\n",
    "        T[1:-1] = T_interior\n",
    "        T[-1] = T[-2]\n",
    "        \n",
    "    return T"
   ]
  },
  {
   "cell_type": "code",
   "execution_count": 24,
   "metadata": {
    "collapsed": true
   },
   "outputs": [],
   "source": [
    "L = 1\n",
    "nx = 21\n",
    "alpha = 1.22e-3\n",
    "\n",
    "dx = L/(nx-1)\n",
    "\n",
    "Ti = numpy.zeros(nx) \n",
    "Ti[0] = 100\n",
    "\n",
    "sigma = 2\n",
    "dt = sigma*dx**2/alpha\n",
    "nt = 10\n",
    "\n",
    "A = generateMatrix(nx, sigma)"
   ]
  },
  {
   "cell_type": "code",
   "execution_count": null,
   "metadata": {
    "collapsed": false
   },
   "outputs": [],
   "source": []
  },
  {
   "cell_type": "code",
   "execution_count": 25,
   "metadata": {
    "collapsed": false
   },
   "outputs": [],
   "source": [
    "T = CrankNicolson(Ti.copy(), A, nt, sigma)"
   ]
  },
  {
   "cell_type": "code",
   "execution_count": 26,
   "metadata": {
    "collapsed": false
   },
   "outputs": [],
   "source": [
    "from matplotlib import pyplot\n",
    "%matplotlib inline\n",
    "from matplotlib import rcParams\n",
    "rcParams['font.family']='serif'\n",
    "rcParams['font.size'] = 16"
   ]
  },
  {
   "cell_type": "code",
   "execution_count": 27,
   "metadata": {
    "collapsed": false
   },
   "outputs": [
    {
     "data": {
      "image/png": "[encoded data removed]",
      "text/plain": [
       "<matplotlib.figure.Figure at 0x7f2268bf9b70>"
      ]
     },
     "metadata": {},
     "output_type": "display_data"
    }
   ],
   "source": [
    "x = numpy.linspace(0, L, nx)\n",
    "pyplot.plot(x, T, lw=3)\n",
    "pyplot.xlabel('length')\n",
    "pyplot.ylabel('Temperature');"
   ]
  },
  {
   "cell_type": "code",
   "execution_count": 30,
   "metadata": {
    "collapsed": true
   },
   "outputs": [],
   "source": [
    "from math import pi\n",
    "def T_analytical(x, t, n_max, alpha, L):\n",
    "    T = 100\n",
    "    for n in range(1, n_max+1):\n",
    "        k = (2*n-1)*pi/(2*L)\n",
    "        \n",
    "        summation = 400/((2*n-1)*pi)* numpy.sin(k*x)* numpy.exp(-alpha*k**2*t)\n",
    "        T -= summation\n",
    "        \n",
    "    return T"
   ]
  },
  {
   "cell_type": "code",
   "execution_count": 32,
   "metadata": {
    "collapsed": false
   },
   "outputs": [
    {
     "data": {
      "image/png": "[encoded data removed]",
      "text/plain": [
       "<matplotlib.figure.Figure at 0x7f22641a4ac8>"
      ]
     },
     "metadata": {},
     "output_type": "display_data"
    }
   ],
   "source": [
    "T_exact = T_analytical(x, dt*nt, 100, alpha, L)\n",
    "pyplot.plot(x, T_exact, lw=3);"
   ]
  },
  {
   "cell_type": "code",
   "execution_count": 33,
   "metadata": {
    "collapsed": false
   },
   "outputs": [
    {
     "data": {
      "text/plain": [
       "6.9279171182600926e-13"
      ]
     },
     "execution_count": 33,
     "metadata": {},
     "output_type": "execute_result"
    }
   ],
   "source": [
    "T1 = T_analytical(x, .2, 100, alpha, L)\n",
    "T2 = T_analytical(x, .2, 200, alpha, L)\n",
    "numpy.sqrt(numpy.sum((T1 - T2)**2)/numpy.sum(T2**2))"
   ]
  },
  {
   "cell_type": "code",
   "execution_count": 34,
   "metadata": {
    "collapsed": true
   },
   "outputs": [],
   "source": [
    "def L2_error(T, T_exact):\n",
    "    \"\"\"Computes L2 norm of error\n",
    "    \n",
    "        Parameters:\n",
    "            T - array with numerical solution\n",
    "            T_exact - array with exact solution\n",
    "            \n",
    "        Returns: \n",
    "            e - L2 norm of error.\n",
    "        \"\"\"\n",
    "    \n",
    "    e = numpy.sqrt(numpy.sum((T-T_exact)**2)/numpy.sum(T_exact**2))\n",
    "    \n",
    "    return e"
   ]
  },
  {
   "cell_type": "code",
   "execution_count": 36,
   "metadata": {
    "collapsed": true
   },
   "outputs": [],
   "source": [
    "def generateMatrix_btcs(N, sigma):\n",
    "    \"\"\"Computes the matrix for diffusion equation with backward Euler \n",
    "        Uses Dirichlet condition at i=0, Neumann at i=-1\n",
    "        \n",
    "        \"\"\"\n",
    "    #Setup diagonal\n",
    "    d = numpy.diag(numpy.ones(N-2)*(2+1./sigma))\n",
    "    \n",
    "    #Consider Neumann BC\n",
    "    d[-1, -1] = 1+1./sigma\n",
    "    \n",
    "    #Upper diagonal\n",
    "    ud = numpy.diag(numpy.ones(N-3)*-1, 1)\n",
    "    \n",
    "    #Lower Diagonal\n",
    "    ld = numpy.diag(numpy.ones(N-3)*-1, -1)\n",
    "    \n",
    "    A = d + ud + ld\n",
    "    return A"
   ]
  },
  {
   "cell_type": "code",
   "execution_count": 37,
   "metadata": {
    "collapsed": true
   },
   "outputs": [],
   "source": [
    "def generateRHS_btcs(T, sigma):\n",
    "    b = numpy.zeros_like(T)\n",
    "    \n",
    "    b = T[1:-1]*1./sigma\n",
    "    #Consider Dirichlet BC\n",
    "    b[0] += T[0]\n",
    "    \n",
    "    return b"
   ]
  },
  {
   "cell_type": "code",
   "execution_count": 38,
   "metadata": {
    "collapsed": true
   },
   "outputs": [],
   "source": [
    "def implicit_btcs(T, A, nt, sigma):\n",
    "    \n",
    "    for t in range(nt):\n",
    "        Tn = T.copy()\n",
    "        b = generateRHS_btcs(Tn, sigma)\n",
    "        T_interior = solve(A, b)\n",
    "        T[1:-1] = T_interior\n",
    "        T[-1] = T[-2]\n",
    "        \n",
    "    return T"
   ]
  },
  {
   "cell_type": "code",
   "execution_count": 39,
   "metadata": {
    "collapsed": true
   },
   "outputs": [],
   "source": [
    "nx = 1001\n",
    "dx = L/(nx-1)\n",
    "\n",
    "dt_values = numpy.asarray([1.0, 0.5, 0.25, 0.125])\n",
    "error = numpy.zeros(len(dt_values))\n",
    "error_ftcs = numpy.zeros(len(dt_values))\n",
    "\n",
    "t_final = 10\n",
    "t_initial = 1\n",
    "\n",
    "x = numpy.linspace(0, L, nx)\n",
    "\n",
    "Ti = T_analytical(x, t_initial, 100, alpha, L)\n",
    "T_exact = T_analytical(x, t_final, 100, alpha, L)\n",
    "\n",
    "for i, dt in enumerate(dt_values):\n",
    "    sigma = alpha*dt/dx**2\n",
    "    \n",
    "    nt = int((t_final-t_initial)/dt)\n",
    "    A = generateMatrix(nx, sigma)\n",
    "    A_btcs = generateMatrix_btcs(nx, sigma)\n",
    "    T = CrankNicolson(Ti.copy(), A, nt, sigma)\n",
    "    error[i] = L2_error(T, T_exact)\n",
    "    \n",
    "    T = implicit_btcs(Ti.copy(), A_btcs, nt, sigma)\n",
    "    error_ftcs[i] = L2_error(T, T_exact)"
   ]
  },
  {
   "cell_type": "code",
   "execution_count": 43,
   "metadata": {
    "collapsed": false
   },
   "outputs": [
    {
     "data": {
      "image/png": "[encoded data removed]",
      "text/plain": [
       "<matplotlib.figure.Figure at 0x7f2263d1a748>"
      ]
     },
     "metadata": {},
     "output_type": "display_data"
    }
   ],
   "source": [
    "pyplot.figure(figsize=(8,8))\n",
    "pyplot.grid(True)\n",
    "pyplot.xlabel(r'$\\Delta t$')\n",
    "pyplot.ylabel(r'$L_2$-norm of the error', fontsize=18)\n",
    "pyplot.axis('equal')\n",
    "pyplot.loglog(dt_values, error,  ls=':', lw=2, marker='o')\n",
    "pyplot.loglog(dt_values, error_ftcs, ls='--', lw=2, marker='s')\n",
    "pyplot.legend(['Crank-Nicolson', 'FTCS']);"
   ]
  },
  {
   "cell_type": "code",
   "execution_count": 44,
   "metadata": {
    "collapsed": false
   },
   "outputs": [
    {
     "data": {
      "text/plain": [
       "array([  5.56252560e-04,   1.37457564e-04,   3.28517043e-05,\n",
       "         6.77164747e-06])"
      ]
     },
     "execution_count": 44,
     "metadata": {},
     "output_type": "execute_result"
    }
   ],
   "source": [
    "error"
   ]
  },
  {
   "cell_type": "code",
   "execution_count": 45,
   "metadata": {
    "collapsed": true
   },
   "outputs": [],
   "source": [
    "nx_values = numpy.asarray([11, 21, 41, 81, 161])\n",
    "\n",
    "dt = 0.1\n",
    "error = numpy.zeros(len(nx_values))\n",
    "\n",
    "t_final = 20\n",
    "x = numpy.linspace(0, L, nx)\n",
    "\n",
    "for i, nx in enumerate(nx_values):\n",
    "    dx = L/(nx-1)\n",
    "    x = numpy.linspace(0, L, nx)\n",
    "    \n",
    "    sigma = alpha*dt/dx**2\n",
    "    nt = int(t_final/dt)\n",
    "    A = generateMatrix(nx, sigma)\n",
    "    \n",
    "    Ti = numpy.zeros(nx)\n",
    "    Ti[0] = 100\n",
    "    \n",
    "    T = CrankNicolson(Ti.copy(), A, nt, sigma)\n",
    "    T_exact = T_analytical(x, t_final, 100, alpha, L)\n",
    "    error[i] = L2_error(T, T_exact)"
   ]
  },
  {
   "cell_type": "code",
   "execution_count": 46,
   "metadata": {
    "collapsed": false
   },
   "outputs": [
    {
     "data": {
      "image/png": "[encoded data removed]",
      "text/plain": [
       "<matplotlib.figure.Figure at 0x7f2263e76b38>"
      ]
     },
     "metadata": {},
     "output_type": "display_data"
    }
   ],
   "source": [
    "pyplot.figure(figsize=(8,8))\n",
    "pyplot.grid(True)\n",
    "pyplot.xlabel(r'$n_x$')\n",
    "pyplot.ylabel(r'$L_2$-norm of the error')\n",
    "pyplot.axis('equal')\n",
    "pyplot.loglog(nx_values, error, ls='--', lw=2, marker='o');"
   ]
  },
  {
   "cell_type": "code",
   "execution_count": 52,
   "metadata": {
    "collapsed": false
   },
   "outputs": [],
   "source": [
    "nx_values = numpy.asarray([11, 21, 41, 81, 161])\n",
    "\n",
    "dt = 0.1\n",
    "error = numpy.zeros(len(nx_values))\n",
    "\n",
    "t_final = 1000\n",
    "x = numpy.linspace(0, L, nx)\n",
    "\n",
    "for i, nx in enumerate(nx_values):\n",
    "    dx = L/(nx-1)\n",
    "    x = numpy.linspace(0, L, nx)\n",
    "    \n",
    "    sigma = alpha*dt/dx**2\n",
    "    nt = int(t_final/dt)\n",
    "    \n",
    "    A = generateMatrix(nx, sigma)\n",
    "    Ti = numpy.zeros(nx)\n",
    "    Ti[0] = 100\n",
    "    \n",
    "    T = CrankNicolson(Ti.copy(), A, nt, sigma)\n",
    "    T_exact = T_analytical(x, t_final, 100, alpha, L)\n",
    "    error[i] = L2_error(T, T_exact)"
   ]
  },
  {
   "cell_type": "code",
   "execution_count": 53,
   "metadata": {
    "collapsed": false
   },
   "outputs": [
    {
     "data": {
      "image/png": "[encoded data removed]",
      "text/plain": [
       "<matplotlib.figure.Figure at 0x7f22640311d0>"
      ]
     },
     "metadata": {},
     "output_type": "display_data"
    }
   ],
   "source": [
    "pyplot.figure(figsize=(8,8))\n",
    "pyplot.grid(True)\n",
    "pyplot.xlabel(r'$n_x$', fontsize=18)\n",
    "pyplot.ylabel(r'$L_2$-norm of the error', fontsize=18)\n",
    "pyplot.xlim(1, 1000)\n",
    "pyplot.ylim(1e-5, 1e-2)\n",
    "pyplot.loglog(nx_values, error, ls='--', lw=2, marker='o');"
   ]
  },
  {
   "cell_type": "code",
   "execution_count": 54,
   "metadata": {
    "collapsed": false
   },
   "outputs": [
    {
     "data": {
      "text/plain": [
       "array([ 0.01192272,  0.00618159,  0.00314266,  0.00158386,  0.00079501])"
      ]
     },
     "execution_count": 54,
     "metadata": {},
     "output_type": "execute_result"
    }
   ],
   "source": [
    "error"
   ]
  },
  {
   "cell_type": "code",
   "execution_count": null,
   "metadata": {
    "collapsed": true
   },
   "outputs": [],
   "source": []
  }
 ],
 "metadata": {
  "kernelspec": {
   "display_name": "Python 3",
   "language": "python",
   "name": "python3"
  },
  "language_info": {
   "codemirror_mode": {
    "name": "ipython",
    "version": 3
   },
   "file_extension": ".py",
   "mimetype": "text/x-python",
   "name": "python",
   "nbconvert_exporter": "python",
   "pygments_lexer": "ipython3",
   "version": "3.4.3"
  }
 },
 "nbformat": 4,
 "nbformat_minor": 0
}
