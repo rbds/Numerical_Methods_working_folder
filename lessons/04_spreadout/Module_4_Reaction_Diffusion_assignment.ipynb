{
 "cells": [
  {
   "cell_type": "code",
   "execution_count": 1,
   "metadata": {
    "collapsed": true
   },
   "outputs": [],
   "source": [
    "import numpy\n",
    "from matplotlib import pyplot\n",
    "import matplotlib.cm as cm\n",
    "%matplotlib inline"
   ]
  },
  {
   "cell_type": "code",
   "execution_count": 2,
   "metadata": {
    "collapsed": false
   },
   "outputs": [
    {
     "name": "stdout",
     "output_type": "stream",
     "text": [
      "8301\n",
      "0.9636865765741071\n"
     ]
    }
   ],
   "source": [
    "n = 192\n",
    "Du, Dv, F, k = 0.00016, 0.00008, 0.035, 0.065 #assignment, Bacteria 1\n",
    "dh = 5/(n-1)\n",
    "T = 8000\n",
    "dt = (9/40)*dh**2/(max(Du,Dv))\n",
    "nt = int(T/dt)\n",
    "print(nt)\n",
    "print(dt)\n",
    "#Du, Dv, F, k = 0.00014, 0.00006, 0.035, 0.065 # Bacteria 2\n",
    "#Du, Dv, F, k = 0.00016, 0.00008, 0.060, 0.062 # Coral\n",
    "#Du, Dv, F, k = 0.00019, 0.00005, 0.060, 0.062 # Fingerprint\n",
    "#Du, Dv, F, k = 0.00010, 0.00010, 0.018, 0.050 # Spirals\n",
    "#Du, Dv, F, k = 0.00012, 0.00008, 0.020, 0.050 # Spirals Dense\n",
    "#Du, Dv, F, k = 0.00010, 0.00016, 0.020, 0.050 # Spirals Fast\n",
    "#Du, Dv, F, k = 0.00016, 0.00008, 0.020, 0.055 # Unstable\n",
    "#Du, Dv, F, k = 0.00016, 0.00008, 0.050, 0.065 # Worms 1\n",
    "#Du, Dv, F, k = 0.00016, 0.00008, 0.054, 0.063 # Worms 2\n",
    "#Du, Dv, F, k = 0.00016, 0.00008, 0.035, 0.060 # Zebrafish"
   ]
  },
  {
   "cell_type": "code",
   "execution_count": 3,
   "metadata": {
    "collapsed": false
   },
   "outputs": [],
   "source": [
    "uvinit = numpy.load('./data/uvinitial.npz')\n",
    "U_init = uvinit['U']\n",
    "V_init = uvinit['V']\n",
    "#print(U_init)"
   ]
  },
  {
   "cell_type": "code",
   "execution_count": 12,
   "metadata": {
    "collapsed": false
   },
   "outputs": [],
   "source": [
    "def ftcs(Du, Dv, F, k, U, V, dt, dh, nt):\n",
    "    \"\"\"Forward time, central space discretization for explicit Gray-Scott Model\n",
    "            of Reaction - Diffusion equations\n",
    "        \n",
    "        Parameters:\n",
    "            Du - Diffusion Rate for u type particles\n",
    "            Dv  - Diffusion rate for v type particles\n",
    "            U  - concentration of u type particles (matrix)\n",
    "            V - concentration of v type particles\n",
    "            dt - time step size\n",
    "            dh - spatial step size (assume dx=dy=dh)\n",
    "            nt - number of time steps\n",
    "        \n",
    "        Returns:\n",
    "            U, V - concentration of particles after nt time steps.\n",
    "    \"\"\"\n",
    "    #U = U_init.copy()\n",
    "    #V = V_init.copy()\n",
    "    for t in range(nt):\n",
    "        Un = U.copy()\n",
    "        Vn = V.copy()\n",
    "        \n",
    "        U[1:-1,1:-1] = Un[1:-1, 1:-1]+ dt*(Du*((Un[2:,1:-1]-2*Un[1:-1,1:-1]+Un[:-2,1:-1])/dh**2+\\\n",
    "                                     (Un[1:-1,2:] - 2*Un[1:-1, 1:-1] + Un[1:-1,:-2])/dh**2)\\\n",
    "                                  -Un[1:-1,1:-1]*Vn[1:-1,1:-1]**2 + F*(1-Un[1:-1,1:-1]))\n",
    "        V[1:-1,1:-1] =  Vn[1:-1, 1:-1] + dt*(Dv*((Vn[2:,1:-1]-2*Vn[1:-1,1:-1]+Vn[:-2,1:-1])/dh**2 +\\\n",
    "                                                (Vn[1:-1,2:] - 2*Vn[1:-1, 1:-1] + Vn[1:-1,:-2])/dh**2)\\\n",
    "                                            +Un[1:-1,1:-1]*Vn[1:-1,1:-1]**2 - (F+k)*Vn[1:-1,1:-1])\n",
    "        U[0,:] = U[1,:]\n",
    "        U[:,0] = U[:,1]\n",
    "        U[-1,:] = U[-2,:]\n",
    "        U[:,-1] = U[:,-2]\n",
    "        V[0,:] = V[1,:]\n",
    "        V[:,0] = V[:,1]\n",
    "        V[-1,:] = V[-2,:]\n",
    "        V[:,-1] = V[:,-2]\n",
    "        \n",
    "#        print(U)\n",
    "    return U,V"
   ]
  },
  {
   "cell_type": "code",
   "execution_count": 13,
   "metadata": {
    "collapsed": false
   },
   "outputs": [],
   "source": [
    "#print(U_init)"
   ]
  },
  {
   "cell_type": "code",
   "execution_count": 15,
   "metadata": {
    "collapsed": false
   },
   "outputs": [
    {
     "data": {
      "text/plain": [
       "array([ 0.92469521,  0.85013834,  0.66815621,  0.90196481,  0.9039502 ])"
      ]
     },
     "execution_count": 15,
     "metadata": {},
     "output_type": "execute_result"
    }
   ],
   "source": [
    "U,V = ftcs(Du, Dv, F, k, U_init.copy(), V_init.copy(), dt, dh, nt)\n",
    "#print(U)\n",
    "#print(V)\n",
    "\n",
    "U[100,::40]"
   ]
  },
  {
   "cell_type": "code",
   "execution_count": null,
   "metadata": {
    "collapsed": false
   },
   "outputs": [],
   "source": []
  }
 ],
 "metadata": {
  "kernelspec": {
   "display_name": "Python 3",
   "language": "python",
   "name": "python3"
  },
  "language_info": {
   "codemirror_mode": {
    "name": "ipython",
    "version": 3
   },
   "file_extension": ".py",
   "mimetype": "text/x-python",
   "name": "python",
   "nbconvert_exporter": "python",
   "pygments_lexer": "ipython3",
   "version": "3.4.3"
  }
 },
 "nbformat": 4,
 "nbformat_minor": 0
}
